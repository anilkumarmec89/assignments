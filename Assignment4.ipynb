{
 "cells": [
  {
   "cell_type": "code",
   "execution_count": 22,
   "metadata": {},
   "outputs": [
    {
     "name": "stdout",
     "output_type": "stream",
     "text": [
      "Enter side a:10\n",
      "Enter side b:10\n",
      "Enter side c:10\n",
      "15.0 1875.0\n"
     ]
    },
    {
     "data": {
      "text/plain": [
       "43.30127018922193"
      ]
     },
     "execution_count": 22,
     "metadata": {},
     "output_type": "execute_result"
    }
   ],
   "source": [
    "#1.1 Write a Python Program(with class concepts) to find the area of the triangle using the below\n",
    "#formula.\n",
    "#area = (s*(s-a)*(s-b)*(s-c)) ** 0.5\n",
    "#Function to take the length of the sides of triangle from user should be defined in the parent\n",
    "#class and function to calculate the area should be defined in subclass.\n",
    "class Area(object):\n",
    "      def triangle_area(self, a,b,c):\n",
    "            s=(a+b+c)/2.0\n",
    "            area= (s*(s-a)*(s-b)*(s-c))\n",
    "            print(s, area)\n",
    "            area= area**0.5\n",
    "            return area\n",
    "class Sides(Area):\n",
    "        def __init__(self):\n",
    "            self.a= int(input(\"Enter side a:\"))\n",
    "            self.b= int(input(\"Enter side b:\"))\n",
    "            self.c= int(input(\"Enter side c:\"))\n",
    "        def get_area(self):\n",
    "            return self.triangle_area(self.a,self.b, self.c)\n",
    "\n",
    "c=Sides()\n",
    "c.get_area()"
   ]
  },
  {
   "cell_type": "code",
   "execution_count": 12,
   "metadata": {},
   "outputs": [
    {
     "data": {
      "text/plain": [
       "['abdcdf']"
      ]
     },
     "execution_count": 12,
     "metadata": {},
     "output_type": "execute_result"
    }
   ],
   "source": [
    "#1.2 Write a function filter_long_words() that takes a list of words and an integer n and returns\n",
    "#the list of words that are longer than n.\n",
    "\n",
    "def filter_long_words(word_list, expexted_length):\n",
    "    return [word for word in word_list if len(word)>expexted_length ]\n",
    "    \n",
    "filter_long_words(['Hello','hel','abdcdf','gfggf'],5)"
   ]
  },
  {
   "cell_type": "code",
   "execution_count": 15,
   "metadata": {},
   "outputs": [
    {
     "data": {
      "text/plain": [
       "[2, 3, 4]"
      ]
     },
     "execution_count": 15,
     "metadata": {},
     "output_type": "execute_result"
    }
   ],
   "source": [
    "#2.1 Write a Python program using function concept that maps list of words into a list of integers\n",
    "#representing the lengths of the corresponding words.\n",
    "#Hint: If a list [ ab,cde,erty] is passed on to the python function output should come as [2,3,4]\n",
    "#Here 2,3 and 4 are the lengths of the words in the list.\n",
    "def map_list(words):\n",
    "    return [len(w) for w in words]\n",
    "map_list([ 'ab','cde','erty'])"
   ]
  },
  {
   "cell_type": "code",
   "execution_count": 19,
   "metadata": {},
   "outputs": [
    {
     "name": "stdout",
     "output_type": "stream",
     "text": [
      "False\n",
      "False\n",
      "True\n",
      "True\n"
     ]
    }
   ],
   "source": [
    "#2.2 Write a Python function which takes a character (i.e. a string of length 1) and returns True if\n",
    "#it is a vowel, False otherwise.\n",
    "find_vowel=lambda value : value.lower() in ['a', 'e', 'i', 'o', 'u']\n",
    "print(find_vowel('x'))\n",
    "print(find_vowel('X'))\n",
    "print(find_vowel('a'))\n",
    "print(find_vowel('A'))"
   ]
  }
 ],
 "metadata": {
  "kernelspec": {
   "display_name": "Python 3",
   "language": "python",
   "name": "python3"
  },
  "language_info": {
   "codemirror_mode": {
    "name": "ipython",
    "version": 3
   },
   "file_extension": ".py",
   "mimetype": "text/x-python",
   "name": "python",
   "nbconvert_exporter": "python",
   "pygments_lexer": "ipython3",
   "version": "3.7.3"
  }
 },
 "nbformat": 4,
 "nbformat_minor": 2
}
